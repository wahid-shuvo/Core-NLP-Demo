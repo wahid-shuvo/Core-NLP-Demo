{
 "cells": [
  {
   "cell_type": "code",
   "execution_count": 34,
   "metadata": {
    "collapsed": true
   },
   "outputs": [],
   "source": [
    "import ast"
   ]
  },
  {
   "cell_type": "code",
   "execution_count": 35,
   "outputs": [],
   "source": [
    "code = '''\n",
    "def addition(a,b):\n",
    "    sum=a+b\n",
    "    return sum\n",
    "'''\n",
    "\n",
    "#Use the `ast.parse` function to generate an AST from the code:\n",
    "\n",
    "tree = ast.parse(code)"
   ],
   "metadata": {
    "collapsed": false
   }
  },
  {
   "cell_type": "code",
   "execution_count": 36,
   "outputs": [
    {
     "data": {
      "text/plain": "<ast.Module at 0x27cd6b629d0>"
     },
     "execution_count": 36,
     "metadata": {},
     "output_type": "execute_result"
    }
   ],
   "source": [
    "tree"
   ],
   "metadata": {
    "collapsed": false
   }
  },
  {
   "cell_type": "code",
   "execution_count": 37,
   "outputs": [
    {
     "name": "stdout",
     "output_type": "stream",
     "text": [
      "Module(\n",
      "    body=[\n",
      "        FunctionDef(\n",
      "            name='addition',\n",
      "            args=arguments(\n",
      "                posonlyargs=[],\n",
      "                args=[\n",
      "                    arg(arg='a'),\n",
      "                    arg(arg='b')],\n",
      "                kwonlyargs=[],\n",
      "                kw_defaults=[],\n",
      "                defaults=[]),\n",
      "            body=[\n",
      "                Assign(\n",
      "                    targets=[\n",
      "                        Name(id='sum', ctx=Store())],\n",
      "                    value=BinOp(\n",
      "                        left=Name(id='a', ctx=Load()),\n",
      "                        op=Add(),\n",
      "                        right=Name(id='b', ctx=Load()))),\n",
      "                Return(\n",
      "                    value=Name(id='sum', ctx=Load()))],\n",
      "            decorator_list=[])],\n",
      "    type_ignores=[])\n"
     ]
    }
   ],
   "source": [
    "# Displaying AST structure:\n",
    "print(ast.dump(tree,indent=4))"
   ],
   "metadata": {
    "collapsed": false
   }
  },
  {
   "cell_type": "code",
   "execution_count": 38,
   "outputs": [
    {
     "name": "stdout",
     "output_type": "stream",
     "text": [
      "Function: addition\n"
     ]
    }
   ],
   "source": [
    "class MyVisitor(ast.NodeVisitor):\n",
    "    def visit_FunctionDef(self, node):\n",
    "        print(f'Function: {node.name}')\n",
    "        self.generic_visit(node)\n",
    "\n",
    "    def visit_Print(self, node):\n",
    "        print('Print statement')\n",
    "        self.generic_visit(node)\n",
    "\n",
    "visitor = MyVisitor()\n",
    "visitor.visit(tree)\n"
   ],
   "metadata": {
    "collapsed": false
   }
  },
  {
   "cell_type": "code",
   "execution_count": 39,
   "outputs": [
    {
     "name": "stdout",
     "output_type": "stream",
     "text": [
      "Analyzing function 'addition':\n",
      "  Args: ['a', 'b']\n",
      "  Vararg: None\n",
      "  Kwarg: None\n"
     ]
    }
   ],
   "source": [
    "#Analyzing function arguments:\n",
    "import ast\n",
    "\n",
    "class FunctionAnalyzer(ast.NodeVisitor):\n",
    "    def visit_FunctionDef(self, node):\n",
    "        print(f\"Analyzing function '{node.name}':\")\n",
    "        print(f\"  Args: {[arg.arg for arg in node.args.args]}\")\n",
    "        print(f\"  Vararg: {node.args.vararg}\")\n",
    "        print(f\"  Kwarg: {node.args.kwarg}\")\n",
    "        self.generic_visit(node)\n",
    "\n",
    "analyzer = FunctionAnalyzer()\n",
    "analyzer.visit(tree)\n"
   ],
   "metadata": {
    "collapsed": false
   }
  },
  {
   "cell_type": "code",
   "execution_count": 40,
   "outputs": [],
   "source": [
    "#Collecting variables\n",
    "def collect_variables(a):\n",
    "    if type(a) is ast.Module:\n",
    "        return [v for s in a.body for v in collect_variables(s)]\n",
    "\n",
    "    elif type(a) is ast.FunctionDef:\n",
    "        vs = [v for s in a.body for v in collect_variables(s)]\n",
    "        return [a.name] + vs\n",
    "    elif type(a) is ast.Assign:\n",
    "        vs = [v for s in a.targets for v in collect_variables(s)]\n",
    "        return vs + collect_variables(a.value)\n",
    "\n",
    "    elif type(a) is ast.Return:\n",
    "        return collect_variables(a.value)\n",
    "    elif type(a) is ast.Name:\n",
    "        return [a.id]\n",
    "    elif type(a) is ast.BinOp:\n",
    "        return collect_variables(a.left) + collect_variables(a.right)\n",
    "\n",
    "    else:\n",
    "      print(type(a)) # Display trees not captured by cases above.\n",
    "    return []"
   ],
   "metadata": {
    "collapsed": false
   }
  },
  {
   "cell_type": "code",
   "execution_count": 41,
   "outputs": [
    {
     "name": "stdout",
     "output_type": "stream",
     "text": [
      "<class 'ast.Constant'>\n",
      "<class 'ast.Constant'>\n",
      "<class 'ast.Constant'>\n"
     ]
    },
    {
     "data": {
      "text/plain": "['f', 'a', 'u', 'z', 'x', 'y', 'z']"
     },
     "execution_count": 41,
     "metadata": {},
     "output_type": "execute_result"
    }
   ],
   "source": [
    "code=\"\"\"\n",
    "def f(x, y):\n",
    "  a = 5\n",
    "  u = 1 + 2\n",
    "  z = x + y\n",
    "  return z\n",
    "  \"\"\"\n",
    "tree=ast.parse(code)\n",
    "collect_variables(tree)"
   ],
   "metadata": {
    "collapsed": false
   }
  },
  {
   "cell_type": "code",
   "execution_count": 42,
   "outputs": [],
   "source": [
    "#Example with import statement\n",
    "code=\"\"\"\n",
    "import random\n",
    "if answer == 42:\n",
    "    print('Correct answer!')\n",
    "    \"\"\"\n",
    "tree=ast.parse(code)"
   ],
   "metadata": {
    "collapsed": false
   }
  },
  {
   "cell_type": "code",
   "execution_count": 43,
   "outputs": [
    {
     "name": "stdout",
     "output_type": "stream",
     "text": [
      "Module(\n",
      "    body=[\n",
      "        Import(\n",
      "            names=[\n",
      "                alias(name='random')]),\n",
      "        If(\n",
      "            test=Compare(\n",
      "                left=Name(id='answer', ctx=Load()),\n",
      "                ops=[\n",
      "                    Eq()],\n",
      "                comparators=[\n",
      "                    Constant(value=42)]),\n",
      "            body=[\n",
      "                Expr(\n",
      "                    value=Call(\n",
      "                        func=Name(id='print', ctx=Load()),\n",
      "                        args=[\n",
      "                            Constant(value='Correct answer!')],\n",
      "                        keywords=[]))],\n",
      "            orelse=[])],\n",
      "    type_ignores=[])\n"
     ]
    }
   ],
   "source": [
    "print(ast.dump(tree,indent=4))"
   ],
   "metadata": {
    "collapsed": false
   }
  },
  {
   "cell_type": "code",
   "execution_count": 26,
   "outputs": [
    {
     "name": "stdout",
     "output_type": "stream",
     "text": [
      "Module(\n",
      "    body=[\n",
      "        Assign(\n",
      "            targets=[\n",
      "                Name(id='age', ctx=Store())],\n",
      "            value=BinOp(\n",
      "                left=Name(id='age', ctx=Load()),\n",
      "                op=Add(),\n",
      "                right=Constant(value=1)))],\n",
      "    type_ignores=[])\n"
     ]
    }
   ],
   "source": [
    "#understanding ctx in the AST\n",
    "code=\"\"\"\n",
    "age=age+1\n",
    "    \"\"\"\n",
    "tree=ast.parse(code)\n",
    "print(ast.dump(tree,indent=4))"
   ],
   "metadata": {
    "collapsed": false
   }
  },
  {
   "cell_type": "code",
   "execution_count": 44,
   "outputs": [
    {
     "name": "stdout",
     "output_type": "stream",
     "text": [
      "entering Module(body=[Assign(targets=[Name(id='x', ctx=Store())], value=Constant(value=5)), Expr(value=Call(func=Name(id='print', ctx=Load()), args=[Name(id='x', ctx=Load())], keywords=[]))], type_ignores=[])\n",
      "entering Assign(targets=[Name(id='x', ctx=Store())], value=Constant(value=5))\n",
      "entering Name(id='x', ctx=Store())\n",
      "entering Store()\n",
      "entering Constant(value=5)\n",
      "entering Expr(value=Call(func=Name(id='print', ctx=Load()), args=[Name(id='x', ctx=Load())], keywords=[]))\n",
      "entering Call(func=Name(id='print', ctx=Load()), args=[Name(id='x', ctx=Load())], keywords=[])\n",
      "entering Name(id='print', ctx=Load())\n",
      "entering Load()\n",
      "entering Name(id='x', ctx=Load())\n",
      "entering Load()\n"
     ]
    }
   ],
   "source": [
    "#Visit the tree step by step\n",
    "import ast\n",
    "\n",
    "class MyVisitor(ast.NodeVisitor):\n",
    "    def generic_visit(self, node):\n",
    "        print(f'entering {ast.dump(node)}')\n",
    "        super().generic_visit(node)\n",
    "\n",
    "visitor = MyVisitor()\n",
    "\n",
    "tree = ast.parse('''\n",
    "x = 5\n",
    "print(x)\n",
    "''')\n",
    "visitor.visit(tree)"
   ],
   "metadata": {
    "collapsed": false
   }
  },
  {
   "cell_type": "code",
   "execution_count": 45,
   "outputs": [
    {
     "name": "stdout",
     "output_type": "stream",
     "text": [
      "entering Module\n",
      "entering Assign\n",
      "entering Name\n",
      "entering Store\n",
      "entering Constant\n"
     ]
    }
   ],
   "source": [
    "#Traversal\n",
    "class MyVisitor(ast.NodeVisitor):\n",
    "    def generic_visit(self, node):\n",
    "        print(f'entering {node.__class__.__name__}')\n",
    "        super().generic_visit(node)\n",
    "\n",
    "visitor = MyVisitor()\n",
    "\n",
    "tree = ast.parse('x = 5')\n",
    "visitor.visit(tree)"
   ],
   "metadata": {
    "collapsed": false
   }
  },
  {
   "cell_type": "code",
   "execution_count": 46,
   "outputs": [
    {
     "name": "stdout",
     "output_type": "stream",
     "text": [
      "leaving Store\n",
      "leaving Name\n",
      "leaving Constant\n",
      "leaving Assign\n",
      "leaving Module\n"
     ]
    }
   ],
   "source": [
    "class MyVisitor(ast.NodeVisitor):\n",
    "    def generic_visit(self, node):\n",
    "        super().generic_visit(node)\n",
    "        print(f'leaving {node.__class__.__name__}')\n",
    "\n",
    "visitor = MyVisitor()\n",
    "\n",
    "tree = ast.parse('x = 5')\n",
    "visitor.visit(tree)"
   ],
   "metadata": {
    "collapsed": false
   }
  },
  {
   "cell_type": "code",
   "execution_count": 47,
   "outputs": [
    {
     "name": "stdout",
     "output_type": "stream",
     "text": [
      "entering Module\n",
      "entering Assign\n",
      "entering Name\n",
      "entering Store\n",
      "leaving Store\n",
      "leaving Name\n",
      "entering Constant\n",
      "leaving Constant\n",
      "leaving Assign\n",
      "leaving Module\n"
     ]
    }
   ],
   "source": [
    "class MyVisitor(ast.NodeVisitor):\n",
    "    def generic_visit(self, node):\n",
    "        print(f'entering {node.__class__.__name__}')\n",
    "        super().generic_visit(node)\n",
    "        print(f'leaving {node.__class__.__name__}')\n",
    "\n",
    "visitor = MyVisitor()\n",
    "\n",
    "tree = ast.parse('x = 5')\n",
    "visitor.visit(tree)"
   ],
   "metadata": {
    "collapsed": false
   }
  },
  {
   "cell_type": "code",
   "execution_count": 48,
   "outputs": [
    {
     "name": "stdout",
     "output_type": "stream",
     "text": [
      "For node contains 1 statements\n",
      "For node contains 3 statements\n"
     ]
    }
   ],
   "source": [
    "#Counting Number of for nodes in a statement\n",
    "import ast\n",
    "\n",
    "class ForStmtCounter(ast.NodeVisitor):\n",
    "    current_for_node = None\n",
    "    stmt_count = 0\n",
    "\n",
    "    def generic_visit(self, node):\n",
    "        # If we are inside a for node, count statements\n",
    "        if self.current_for_node is not None:\n",
    "            if isinstance(node, ast.stmt):\n",
    "                self.stmt_count += 1\n",
    "\n",
    "        # If we just found a new for node, start counting\n",
    "        elif isinstance(node, ast.For):\n",
    "            self.current_for_node = node\n",
    "            self.stmt_count = 0\n",
    "\n",
    "        super().generic_visit(node)\n",
    "\n",
    "        # This runs when coming back up from the children\n",
    "        if node is self.current_for_node:\n",
    "            # We're done counting this node. Print it out\n",
    "            print(f'For node contains {self.stmt_count} statements')\n",
    "            self.current_for_node = None\n",
    "\n",
    "for_statement_counter = ForStmtCounter()\n",
    "\n",
    "tree = ast.parse('''\n",
    "for i in range(10):\n",
    "    print(i)\n",
    "\n",
    "for item in items:\n",
    "    if item == 42:\n",
    "        print('Magic item found!')\n",
    "        break\n",
    "''')\n",
    "for_statement_counter.visit(tree)"
   ],
   "metadata": {
    "collapsed": false
   }
  },
  {
   "cell_type": "code",
   "execution_count": 49,
   "outputs": [
    {
     "name": "stdout",
     "output_type": "stream",
     "text": [
      "42\n",
      "42\n",
      "42\n",
      "42\n",
      "42\n",
      "84\n"
     ]
    }
   ],
   "source": [
    "#Modifying ast node\n",
    "code=\"\"\"\n",
    "print(13)  # definitely not 42\n",
    "\n",
    "num = 28\n",
    "print(num)\n",
    "\n",
    "def add(x, y):\n",
    "    return x + y\n",
    "\n",
    "for i in [1, 2, 3]:\n",
    "    print(i)\n",
    "\n",
    "output = add(num, 100)\n",
    "print(output)\n",
    "\"\"\"\n",
    "import ast\n",
    "\n",
    "class NumberChanger(ast.NodeTransformer):\n",
    "    \"\"\"Changes all number literals to 42.\"\"\"\n",
    "    def generic_visit(self, node):\n",
    "        super().generic_visit(node)  # Added this line\n",
    "\n",
    "        # if it isn't an int constant, do nothing with the node\n",
    "        if not isinstance(node, ast.Constant) or not isinstance(node.value, int):\n",
    "            return node\n",
    "\n",
    "        return ast.Constant(value=42)\n",
    "tree = ast.parse(code)\n",
    "modified_tree = NumberChanger().visit(tree)\n",
    "modified_tree = ast.fix_missing_locations(modified_tree)\n",
    "exec(compile(modified_tree, '<my ast>', 'exec'))"
   ],
   "metadata": {
    "collapsed": false
   }
  },
  {
   "cell_type": "code",
   "execution_count": null,
   "outputs": [],
   "source": [],
   "metadata": {
    "collapsed": false
   }
  }
 ],
 "metadata": {
  "kernelspec": {
   "display_name": "Python 3",
   "language": "python",
   "name": "python3"
  },
  "language_info": {
   "codemirror_mode": {
    "name": "ipython",
    "version": 2
   },
   "file_extension": ".py",
   "mimetype": "text/x-python",
   "name": "python",
   "nbconvert_exporter": "python",
   "pygments_lexer": "ipython2",
   "version": "2.7.6"
  }
 },
 "nbformat": 4,
 "nbformat_minor": 0
}
